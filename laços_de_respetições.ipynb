{
 "cells": [
  {
   "cell_type": "code",
   "execution_count": 1,
   "metadata": {},
   "outputs": [
    {
     "name": "stdout",
     "output_type": "stream",
     "text": [
      "1 Ana\n",
      "2 Jonas\n",
      "3 Felipe\n",
      "4 Cláudio\n",
      "5 Renato\n"
     ]
    }
   ],
   "source": [
    "# lista de repetição com for e indice\n",
    "def envia_email(cliente):\n",
    "    print(f'Email enviado para o cliente {cliente}!')\n",
    "\n",
    "clientes = ['Ana', 'Jonas', 'Felipe', 'Cláudio', 'Renato']\n",
    "\n",
    "for i, cliente in enumerate(clientes):\n",
    "    print(i+1, cliente)"
   ]
  },
  {
   "cell_type": "code",
   "execution_count": 9,
   "metadata": {},
   "outputs": [
    {
     "name": "stdout",
     "output_type": "stream",
     "text": [
      "0\n",
      "1\n",
      "2\n",
      "3\n",
      "4\n"
     ]
    }
   ],
   "source": [
    "# lista de repetição com condição while\n",
    "\n",
    "numero = 0 \n",
    "\n",
    "while numero < 5:\n",
    "    print(numero)\n",
    "    numero +=1"
   ]
  },
  {
   "cell_type": "code",
   "execution_count": 10,
   "metadata": {},
   "outputs": [
    {
     "name": "stdout",
     "output_type": "stream",
     "text": [
      "1\n",
      "2\n",
      "3\n",
      "4\n",
      "5\n",
      "6\n",
      "7\n",
      "8\n",
      "9\n",
      "10\n"
     ]
    }
   ],
   "source": [
    "#contando con range \n",
    "for i in range(10):\n",
    "    print(i+1)"
   ]
  },
  {
   "cell_type": "code",
   "execution_count": 19,
   "metadata": {},
   "outputs": [
    {
     "name": "stdout",
     "output_type": "stream",
     "text": [
      "1 Ana\n",
      "2 Jonas\n",
      "3 Felipe\n"
     ]
    }
   ],
   "source": [
    "# lista de repetição com for, indice, if - militando a repetição e paralizando com break \n",
    "def envia_email(cliente):\n",
    "    print(f'Email enviado para o cliente {cliente}!')\n",
    "\n",
    "clientes = ['Ana', 'Jonas', 'Felipe', 'Cláudio', 'Renato']\n",
    "\n",
    "for i, cliente in enumerate(clientes): \n",
    "    if i == 3:\n",
    "        break\n",
    "    print(i+1, cliente)"
   ]
  },
  {
   "cell_type": "code",
   "execution_count": 22,
   "metadata": {},
   "outputs": [
    {
     "name": "stdout",
     "output_type": "stream",
     "text": [
      "1 Ana\n",
      "2 Jonas\n",
      "3 Felipe\n",
      "5 Renato\n"
     ]
    }
   ],
   "source": [
    "# lista de repetição com continue - pulando uma sequência\n",
    "def envia_email(cliente):\n",
    "    print(f'Email enviado para o cliente {cliente}!')\n",
    "\n",
    "clientes = ['Ana', 'Jonas', 'Felipe', 'Cláudio', 'Renato']\n",
    "\n",
    "for i, cliente in enumerate(clientes): \n",
    "    if i == 3:\n",
    "        continue\n",
    "    print(i+1, cliente)"
   ]
  }
 ],
 "metadata": {
  "kernelspec": {
   "display_name": "Python 3",
   "language": "python",
   "name": "python3"
  },
  "language_info": {
   "codemirror_mode": {
    "name": "ipython",
    "version": 3
   },
   "file_extension": ".py",
   "mimetype": "text/x-python",
   "name": "python",
   "nbconvert_exporter": "python",
   "pygments_lexer": "ipython3",
   "version": "3.10.5"
  }
 },
 "nbformat": 4,
 "nbformat_minor": 2
}
