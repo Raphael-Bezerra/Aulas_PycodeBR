{
 "cells": [
  {
   "cell_type": "code",
   "execution_count": 6,
   "metadata": {},
   "outputs": [
    {
     "name": "stdout",
     "output_type": "stream",
     "text": [
      "Não atendeu a condição!\n"
     ]
    }
   ],
   "source": [
    "#exemplos tabela verdade \n",
    "\n",
    "a = True\n",
    "b = False \n",
    "c = True\n",
    "d = False\n",
    "\n",
    "if b or d:\n",
    "    print(\"Atendeu a condição!\")\n",
    "else:\n",
    "    print(\"Não atendeu a condição!\")"
   ]
  },
  {
   "cell_type": "code",
   "execution_count": 12,
   "metadata": {},
   "outputs": [
    {
     "name": "stdout",
     "output_type": "stream",
     "text": [
      "Idade incorreta!\n"
     ]
    }
   ],
   "source": [
    "#exemplos tabela verdade operador ==\n",
    "nome = 'Raphael' \n",
    "idade = 25\n",
    "if idade == 35:\n",
    "    print('Idade correta!')\n",
    "else:\n",
    "    print('Idade incorreta!')\n"
   ]
  },
  {
   "cell_type": "code",
   "execution_count": 14,
   "metadata": {},
   "outputs": [
    {
     "name": "stdout",
     "output_type": "stream",
     "text": [
      "Idade incorreta!\n"
     ]
    }
   ],
   "source": [
    "#exemplos tabela verdade operador !=\n",
    "nome = 'Raphael' \n",
    "idade = 25\n",
    "if idade != 35:\n",
    "    print('Idade correta!')\n",
    "else:\n",
    "    print('Idade incorreta!')\n"
   ]
  },
  {
   "cell_type": "code",
   "execution_count": 16,
   "metadata": {},
   "outputs": [
    {
     "name": "stdout",
     "output_type": "stream",
     "text": [
      "Dados incorretos!\n"
     ]
    }
   ],
   "source": [
    "#exemplos tabela verdade operadores and, ==\n",
    "nome = 'Raphael' \n",
    "idade = 25\n",
    "if nome == 'Raphael' and idade == 35:\n",
    "    print('Dados corretos!')\n",
    "else:\n",
    "    print('Dados incorretos!')\n"
   ]
  },
  {
   "cell_type": "code",
   "execution_count": 17,
   "metadata": {},
   "outputs": [
    {
     "name": "stdout",
     "output_type": "stream",
     "text": [
      "Dados corretos!\n"
     ]
    }
   ],
   "source": [
    "#exemplos tabela verdade operadores and, or, ==\n",
    "nome = 'Raphael' \n",
    "idade = 25\n",
    "peso = 90\n",
    "\n",
    "if nome == 'Raphael' or idade == 35 and peso == 90 :\n",
    "    print('Dados corretos!')\n",
    "else:\n",
    "    print('Dados incorretos!')"
   ]
  }
 ],
 "metadata": {
  "kernelspec": {
   "display_name": "Python 3",
   "language": "python",
   "name": "python3"
  },
  "language_info": {
   "codemirror_mode": {
    "name": "ipython",
    "version": 3
   },
   "file_extension": ".py",
   "mimetype": "text/x-python",
   "name": "python",
   "nbconvert_exporter": "python",
   "pygments_lexer": "ipython3",
   "version": "3.10.5"
  }
 },
 "nbformat": 4,
 "nbformat_minor": 2
}
