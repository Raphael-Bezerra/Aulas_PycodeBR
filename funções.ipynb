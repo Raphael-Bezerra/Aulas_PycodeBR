{
 "cells": [
  {
   "cell_type": "code",
   "execution_count": 1,
   "metadata": {},
   "outputs": [
    {
     "name": "stdout",
     "output_type": "stream",
     "text": [
      "Olá mundo!\n"
     ]
    }
   ],
   "source": [
    "#funções nativa print\n",
    "\n",
    "print('Olá mundo!')"
   ]
  },
  {
   "cell_type": "code",
   "execution_count": 2,
   "metadata": {},
   "outputs": [
    {
     "data": {
      "text/plain": [
       "8"
      ]
     },
     "execution_count": 2,
     "metadata": {},
     "output_type": "execute_result"
    }
   ],
   "source": [
    "len('PycodeBR')"
   ]
  },
  {
   "cell_type": "code",
   "execution_count": 3,
   "metadata": {},
   "outputs": [
    {
     "data": {
      "text/plain": [
       "'Raphael'"
      ]
     },
     "execution_count": 3,
     "metadata": {},
     "output_type": "execute_result"
    }
   ],
   "source": [
    "input('Digite seu nome')"
   ]
  },
  {
   "cell_type": "code",
   "execution_count": 8,
   "metadata": {},
   "outputs": [],
   "source": [
    "#função = def em python (definition)\n",
    "\n",
    "def minha_funcao() :\n",
    "    print (\"Primeira Função\")"
   ]
  },
  {
   "cell_type": "code",
   "execution_count": 6,
   "metadata": {},
   "outputs": [],
   "source": [
    "def somar(a, b):\n",
    "    resultado = a + b\n",
    "    return resultado"
   ]
  },
  {
   "cell_type": "code",
   "execution_count": 7,
   "metadata": {},
   "outputs": [
    {
     "data": {
      "text/plain": [
       "9"
      ]
     },
     "execution_count": 7,
     "metadata": {},
     "output_type": "execute_result"
    }
   ],
   "source": [
    "somar (5, 4) "
   ]
  },
  {
   "cell_type": "code",
   "execution_count": 22,
   "metadata": {},
   "outputs": [],
   "source": [
    "#envio de e-mail usando for\n",
    "\n",
    "def envia_email(nome, email):\n",
    "    nome_dest = nome\n",
    "    email_dest = email\n",
    "    # Conectar no provedor\n",
    "    # Monta corpo de email\n",
    "    return f'Email enviado para {nome_dest}. Email: {email_dest}'"
   ]
  },
  {
   "cell_type": "code",
   "execution_count": 23,
   "metadata": {},
   "outputs": [
    {
     "name": "stdout",
     "output_type": "stream",
     "text": [
      "Email enviado para Raphael. Email: raphacode@gmail.com\n",
      "Email enviado para Wallace. Email: wallace@gmail.com\n",
      "Email enviado para Julia. Email: julia@gmail.com\n",
      "Email enviado para Enzo. Email: enzo@gmail.com\n"
     ]
    }
   ],
   "source": [
    "#definindo uma lista de dicionários\n",
    "pessoas = [\n",
    "    { \n",
    "        'nome':'Raphael',\n",
    "        'email' : 'raphacode@gmail.com'\n",
    "    },\n",
    "    { \n",
    "        'nome':'Wallace',\n",
    "        'email' : 'wallace@gmail.com'\n",
    "    },\n",
    "    { \n",
    "        'nome':'Julia',\n",
    "        'email' : 'julia@gmail.com'\n",
    "    },\n",
    "    { \n",
    "        'nome':'Enzo',\n",
    "        'email' : 'enzo@gmail.com'\n",
    "    } \n",
    "]\n",
    "\n",
    "for pessoa in pessoas :\n",
    "    email_enviado = envia_email(pessoa['nome'], pessoa['email'])\n",
    "    print(email_enviado)"
   ]
  }
 ],
 "metadata": {
  "kernelspec": {
   "display_name": "Python 3",
   "language": "python",
   "name": "python3"
  },
  "language_info": {
   "codemirror_mode": {
    "name": "ipython",
    "version": 3
   },
   "file_extension": ".py",
   "mimetype": "text/x-python",
   "name": "python",
   "nbconvert_exporter": "python",
   "pygments_lexer": "ipython3",
   "version": "3.10.5"
  }
 },
 "nbformat": 4,
 "nbformat_minor": 2
}
